{
  "nbformat": 4,
  "nbformat_minor": 0,
  "metadata": {
    "colab": {
      "name": "MachidaDX_albumentation_20210926_1.ipynb",
      "provenance": [],
      "collapsed_sections": [],
      "include_colab_link": true
    },
    "kernelspec": {
      "display_name": "Python 3",
      "name": "python3"
    }
  },
  "cells": [
    {
      "cell_type": "markdown",
      "metadata": {
        "id": "view-in-github",
        "colab_type": "text"
      },
      "source": [
        "<a href=\"https://colab.research.google.com/github/33quitykubby/SIGNATE_Practice/blob/main/Tommy_G/MachidaDX_albumentation_20210926_1.ipynb\" target=\"_parent\"><img src=\"https://colab.research.google.com/assets/colab-badge.svg\" alt=\"Open In Colab\"/></a>"
      ]
    },
    {
      "cell_type": "markdown",
      "metadata": {
        "id": "RldyjemLqDXe"
      },
      "source": [
        "# **Team Machida DX サンプル**  \n",
        "\n",
        "---\n",
        "データ拡張のためのalbumentationsの確認"
      ]
    },
    {
      "cell_type": "markdown",
      "metadata": {
        "id": "bm3vSEEp0CHz"
      },
      "source": [
        "# マウント"
      ]
    },
    {
      "cell_type": "code",
      "metadata": {
        "colab": {
          "base_uri": "https://localhost:8080/"
        },
        "id": "AiFICu0bz-8q",
        "outputId": "bebbd54d-0086-45d3-80d1-821702598914"
      },
      "source": [
        "from google.colab import drive\n",
        "drive.mount('/content/drive')"
      ],
      "execution_count": null,
      "outputs": [
        {
          "output_type": "stream",
          "name": "stdout",
          "text": [
            "Drive already mounted at /content/drive; to attempt to forcibly remount, call drive.mount(\"/content/drive\", force_remount=True).\n"
          ]
        }
      ]
    },
    {
      "cell_type": "markdown",
      "metadata": {
        "id": "hVNoUNk0bAL2"
      },
      "source": [
        "# Setting"
      ]
    },
    {
      "cell_type": "code",
      "metadata": {
        "id": "OO0lVjLbbIZu"
      },
      "source": [
        "# !nvidia-smi"
      ],
      "execution_count": null,
      "outputs": []
    },
    {
      "cell_type": "code",
      "metadata": {
        "id": "ST8jePcWbKem"
      },
      "source": [
        "# !pip uninstall albumentations -y\n",
        "# !pip install albumentations==0.4.5 -q\n",
        "!pip install albumentations==0.5.0 -q"
      ],
      "execution_count": null,
      "outputs": []
    },
    {
      "cell_type": "code",
      "metadata": {
        "id": "Om6NpJutbMih"
      },
      "source": [
        "!pip install timm -q"
      ],
      "execution_count": null,
      "outputs": []
    },
    {
      "cell_type": "markdown",
      "metadata": {
        "id": "JHMr41d5zjf6"
      },
      "source": [
        "# パス指定"
      ]
    },
    {
      "cell_type": "code",
      "metadata": {
        "id": "NLh2Ztdt0Vdr"
      },
      "source": [
        "BASE_PATH = '/content/drive/MyDrive/Colab Notebooks/Machida_DX/sample/sample_data/'\n",
        "\n",
        "FILE_NAME = 'xxxx.bmp' #ここにファイル名を入れる\n"
      ],
      "execution_count": null,
      "outputs": []
    },
    {
      "cell_type": "markdown",
      "metadata": {
        "id": "Ro7AvASOJXn5"
      },
      "source": [
        "# **import**"
      ]
    },
    {
      "cell_type": "code",
      "metadata": {
        "id": "lvt04YLKidvv"
      },
      "source": [
        "import warnings\n",
        "warnings.simplefilter('ignore')\n",
        "import os\n",
        "import gc\n",
        "gc.enable()\n",
        "import sys\n",
        "import glob\n",
        "import time\n",
        "import random\n",
        "import numpy as np\n",
        "import pandas as pd\n",
        "from PIL import Image\n",
        "import matplotlib.pyplot as plt\n",
        "import torch\n",
        "import torchvision\n",
        "import torch.nn as nn\n",
        "import torch.nn.functional as Func\n",
        "import torch.optim as optim\n",
        "from torchvision import datasets, models, transforms\n",
        "from sklearn.model_selection import GroupKFold, StratifiedKFold\n",
        "from datetime import datetime\n",
        "from tqdm.autonotebook import tqdm as tqdm\n",
        "import albumentations as A\n",
        "from albumentations.pytorch import ToTensorV2\n",
        "from sklearn.metrics import roc_auc_score\n",
        "import timm\n",
        "\n",
        "import datetime\n",
        "\n",
        "from torch.utils.data import DataLoader, Dataset\n",
        "from torchvision import transforms\n",
        "from pathlib import Path"
      ],
      "execution_count": null,
      "outputs": []
    },
    {
      "cell_type": "code",
      "metadata": {
        "id": "Qqk7xVQXilAv",
        "colab": {
          "base_uri": "https://localhost:8080/"
        },
        "outputId": "375f6c62-221c-455e-e65f-d9510251b7de"
      },
      "source": [
        "  !rm /etc/localtime\n",
        "  !ln -s /usr/share/zoneinfo/Asia/Tokyo /etc/localtime\n",
        "  !date\n",
        "\n",
        "#終了時刻\n",
        "time_of_begin = datetime.datetime.now(datetime.timezone(datetime.timedelta(hours=9)))"
      ],
      "execution_count": null,
      "outputs": [
        {
          "output_type": "stream",
          "name": "stdout",
          "text": [
            "Sun Sep 26 13:41:20 JST 2021\n"
          ]
        }
      ]
    },
    {
      "cell_type": "markdown",
      "metadata": {
        "id": "YUJMDPG8zGsN"
      },
      "source": [
        "# Albumentations テスト\n",
        "---\n",
        "https://qiita.com/Takayoshi_Makabe/items/79c8a5ba692aa94043f7\n",
        "\n",
        "https://qiita.com/kurilab/items/b69e1be8d0224ae139ad?utm_campaign=popular_items&utm_medium=feed&utm_source=popular_items"
      ]
    },
    {
      "cell_type": "markdown",
      "metadata": {
        "id": "acfEZdG_1g1s"
      },
      "source": [
        "## 1. 水平フリップ/垂直フリップ"
      ]
    },
    {
      "cell_type": "code",
      "metadata": {
        "id": "a5HyXuZUzFHm"
      },
      "source": [
        "import cv2\n",
        "\n",
        "# 1行3列\n",
        "fig, axes = plt.subplots(1, 3, figsize=(15, 6))\n",
        "\n",
        "img = cv2.imread(BASE_PATH +FILE_NAME)\n",
        "img = cv2.cvtColor(img, cv2.COLOR_BGR2RGB)\n",
        "\n",
        "print(img.shape)\n",
        "\n",
        "plt.subplot(1,3,1)\n",
        "plt.imshow(img)\n",
        "plt.title(\"original\", fontsize=20)  \n",
        "\n",
        "# 水平\n",
        "img2 = A.HorizontalFlip(p=1)(image=img)['image']\n",
        "plt.subplot(1,3,2)\n",
        "plt.imshow(img2)\n",
        "plt.title(\"Horizontal\", fontsize=20)  \n",
        "\n",
        "# 垂直\n",
        "img2 = A.VerticalFlip(p=1)(image=img)['image']\n",
        "plt.subplot(1,3,3)\n",
        "plt.imshow(img2)\n",
        "plt.title(\"Vertical\", fontsize=20)  \n"
      ],
      "execution_count": null,
      "outputs": []
    },
    {
      "cell_type": "markdown",
      "metadata": {
        "id": "EsM2qj5w13cR"
      },
      "source": [
        "## 2. Blur（ぼかし）"
      ]
    },
    {
      "cell_type": "code",
      "metadata": {
        "id": "hcDaPNmY13cS"
      },
      "source": [
        "# 1行3列\n",
        "fig, axes = plt.subplots(1, 3, figsize=(15, 6))\n",
        "\n",
        "img = cv2.imread(BASE_PATH + FILE_NAME)\n",
        "img = cv2.cvtColor(img, cv2.COLOR_BGR2RGB)\n",
        "\n",
        "plt.subplot(1,3,1)\n",
        "plt.imshow(img)\n",
        "plt.title(\"original\", fontsize=20)  \n",
        "\n",
        "# albumentation\n",
        "img2 = A.Blur(blur_limit=30, p=1)(image=img)['image']\n",
        "plt.subplot(1,3,2)\n",
        "plt.imshow(img2)\n",
        "plt.title(\"blur_limit=30\", fontsize=20)  \n",
        "\n",
        "# albumentation\n",
        "img2 = A.Blur(blur_limit=100, p=1)(image=img)['image']\n",
        "plt.subplot(1,3,3)\n",
        "plt.imshow(img2)\n",
        "plt.title(\"blur_limit=100\", fontsize=20)  \n"
      ],
      "execution_count": null,
      "outputs": []
    },
    {
      "cell_type": "markdown",
      "metadata": {
        "id": "FExBouG76X1A"
      },
      "source": [
        "## 3. Crop（切りだし）"
      ]
    },
    {
      "cell_type": "code",
      "metadata": {
        "id": "0U0WgpUw6X1F"
      },
      "source": [
        "# 1行2列\n",
        "fig, axes = plt.subplots(1, 3, figsize=(15, 6))\n",
        "\n",
        "img = cv2.imread(BASE_PATH + FILE_NAME)\n",
        "img = cv2.cvtColor(img, cv2.COLOR_BGR2RGB)\n",
        "\n",
        "#サイズ\n",
        "print(np.shape(img))\n",
        "\n",
        "plt.subplot(1,3,1)\n",
        "plt.imshow(img)\n",
        "plt.title(\"original\", fontsize=20)  \n",
        "\n",
        "# 左上\n",
        "img2 = A.Crop(x_min=0, y_min=0, \n",
        "             x_max=1000, y_max=1000, p=1)(image=img)['image']\n",
        "plt.subplot(1,3,2)\n",
        "plt.imshow(img2)\n",
        "plt.title(\"left top\", fontsize=20)  \n",
        "\n",
        "# 右下\n",
        "h = img.shape[0]\n",
        "w = img.shape[1]\n",
        "img2 = A.Crop(x_min=w-1000, y_min=h-1000, \n",
        "             x_max=w, y_max=h, p=1)(image=img)['image']\n",
        "plt.subplot(1,3,3)\n",
        "plt.imshow(img2)\n",
        "plt.title(\"right bottom\", fontsize=20)  \n"
      ],
      "execution_count": null,
      "outputs": []
    },
    {
      "cell_type": "markdown",
      "metadata": {
        "id": "3lZsql3Ly2k4"
      },
      "source": [
        "## 4. CLAHE （コントラスト制限適応型ヒストグラム均等化）"
      ]
    },
    {
      "cell_type": "code",
      "metadata": {
        "id": "8W4DpT3oy2k9"
      },
      "source": [
        "# 1行2列\n",
        "fig, axes = plt.subplots(1, 3, figsize=(15, 6))\n",
        "\n",
        "img = cv2.imread(BASE_PATH + FILE_NAME)\n",
        "img = cv2.cvtColor(img, cv2.COLOR_BGR2RGB)\n",
        "\n",
        "#サイズ\n",
        "print(np.shape(img))\n",
        "print(img[120][120])\n",
        "\n",
        "\n",
        "plt.subplot(1,3,1)\n",
        "plt.imshow(img)\n",
        "plt.title(\"original\", fontsize=20)  \n",
        "\n",
        "# default\n",
        "img2 = A.CLAHE(clip_limit= 4.0, tile_grid_size=(8,8), always_apply=True, p=1)(image=img)['image']\n",
        "plt.subplot(1,3,2)\n",
        "print(img2[120][120])\n",
        "plt.imshow(img2)\n",
        "plt.title(\"clip_limit=4, tile_grid_size=(8,8)\", fontsize=15)  \n",
        "\n",
        "# \n",
        "img2 = A.CLAHE(clip_limit=8.0, tile_grid_size=(16,16), always_apply=True,  p=1)(image=img)['image']\n",
        "plt.subplot(1,3,3)\n",
        "print(img2[120][120])\n",
        "plt.imshow(img2)\n",
        "plt.title(\"clip_limit=8, tile_grid_size=(16,16)\", fontsize=15)  \n"
      ],
      "execution_count": null,
      "outputs": []
    },
    {
      "cell_type": "markdown",
      "metadata": {
        "id": "v8AH400idpTk"
      },
      "source": [
        "# 終わり"
      ]
    },
    {
      "cell_type": "code",
      "metadata": {
        "id": "bdBIu4za5umf",
        "colab": {
          "base_uri": "https://localhost:8080/"
        },
        "outputId": "c881efa1-9a6a-439e-e41c-9332e01e1bab"
      },
      "source": [
        "#終了時刻\n",
        "time_of_finish = datetime.datetime.now(datetime.timezone(datetime.timedelta(hours=9)))\n",
        "print(\"finish_time=\",time_of_finish)\n",
        "print(\"total_time=\",time_of_finish-time_of_begin)"
      ],
      "execution_count": null,
      "outputs": [
        {
          "output_type": "stream",
          "name": "stdout",
          "text": [
            "finish_time= 2021-09-26 13:41:29.392447+09:00\n",
            "total_time= 0:00:08.364521\n"
          ]
        }
      ]
    }
  ]
}