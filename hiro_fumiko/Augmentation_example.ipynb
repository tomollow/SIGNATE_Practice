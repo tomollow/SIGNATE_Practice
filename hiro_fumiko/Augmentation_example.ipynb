{
  "nbformat": 4,
  "nbformat_minor": 5,
  "metadata": {
    "kernelspec": {
      "display_name": "Python 3",
      "language": "python",
      "name": "python3"
    },
    "language_info": {
      "codemirror_mode": {
        "name": "ipython",
        "version": 3
      },
      "file_extension": ".py",
      "mimetype": "text/x-python",
      "name": "python",
      "nbconvert_exporter": "python",
      "pygments_lexer": "ipython3",
      "version": "3.8.10"
    },
    "colab": {
      "name": "Augmentation_example.ipynb",
      "provenance": [],
      "collapsed_sections": [],
      "include_colab_link": true
    }
  },
  "cells": [
    {
      "cell_type": "markdown",
      "metadata": {
        "id": "view-in-github",
        "colab_type": "text"
      },
      "source": [
        "<a href=\"https://colab.research.google.com/github/33quitykubby/SIGNATE_Practice/blob/main/hiro_fumiko/Augmentation_example.ipynb\" target=\"_parent\"><img src=\"https://colab.research.google.com/assets/colab-badge.svg\" alt=\"Open In Colab\"/></a>"
      ]
    },
    {
      "cell_type": "markdown",
      "metadata": {
        "id": "0953796b"
      },
      "source": [
        "# Augmentationについて調べ・実装したnotebookになります\n",
        "ここではpytorchにも親和性のあるAlbumentaionsを中心に用いて解説・実装します。\n",
        "\n",
        "- そもそもAugmentationとは\n",
        "- Albumentations\n",
        "- TTA(Test Time Augmentationについて)\n",
        "- 最適なAugmentationを見つけるアルゴリズム？"
      ],
      "id": "0953796b"
    },
    {
      "cell_type": "markdown",
      "metadata": {
        "id": "TDXubhIN52PU"
      },
      "source": [
        "# そもそもAugmentationとは\n",
        "参考：[【基本編】画像認識に使用されるData Augmentationを一挙にまとめてみた！](https://ai-scholar.tech/articles/data-augmentation/data-augmentation-image-recognition-survey)  \n",
        "\n",
        "\n",
        "\n",
        "Data Augmentationとはデータを人工的に生成する手法のこと。  \n",
        "画像を\"加工\"するのと、\"生成\"させるの二種類存在する。\n",
        "細かく分けると以下の様に分類できる\n",
        "1. 画像の幾何的な操作(加工系、フリップ、回転)\n",
        "2. 画像の色彩空間の操作(加工系、チャネルシャッフル、)\n",
        "3. カーネルフィルタなどの適用(加工系、Blur(ぼかし)、ガウシアンノイズ、やってることはCNNと変わらない)\n",
        "4. 画像の一部を取り除く(加工系、クロップ)\n",
        "5. 画像データの特徴ベクトルに加工(加工系)\n",
        "6. 敵対的サンプルを用いる(加工系)\n",
        "7. 画像を混ぜる(生成系)\n",
        "8. GANによる生成画像をつかう(生成系)\n",
        "9. スタイル変換の適用(生成系)"
      ],
      "id": "TDXubhIN52PU"
    },
    {
      "cell_type": "markdown",
      "metadata": {
        "id": "p5uhMFtp57C-"
      },
      "source": [
        ""
      ],
      "id": "p5uhMFtp57C-"
    },
    {
      "cell_type": "code",
      "metadata": {
        "colab": {
          "base_uri": "https://localhost:8080/"
        },
        "id": "7aeb6477",
        "outputId": "16aea355-dc9a-4a16-eb0d-872d67261687"
      },
      "source": [
        "## for colab\n",
        "from google.colab import drive\n",
        "drive.mount('/content/drive')"
      ],
      "id": "7aeb6477",
      "execution_count": null,
      "outputs": [
        {
          "output_type": "stream",
          "name": "stdout",
          "text": [
            "Mounted at /content/drive\n"
          ]
        }
      ]
    },
    {
      "cell_type": "code",
      "metadata": {
        "colab": {
          "base_uri": "https://localhost:8080/"
        },
        "id": "a87d1421",
        "outputId": "15021743-3fa5-46d1-d0b3-3a5090de5310"
      },
      "source": [
        "## for colab\n",
        "!pip install albumentations==0.4.6\n",
        "!pip install japanize-matplotlib"
      ],
      "id": "a87d1421",
      "execution_count": null,
      "outputs": [
        {
          "output_type": "stream",
          "name": "stdout",
          "text": [
            "Collecting albumentations==0.4.6\n",
            "  Downloading albumentations-0.4.6.tar.gz (117 kB)\n",
            "\u001b[K     |████████████████████████████████| 117 kB 15.0 MB/s \n",
            "\u001b[?25hRequirement already satisfied: numpy>=1.11.1 in /usr/local/lib/python3.7/dist-packages (from albumentations==0.4.6) (1.19.5)\n",
            "Requirement already satisfied: scipy in /usr/local/lib/python3.7/dist-packages (from albumentations==0.4.6) (1.4.1)\n",
            "Collecting imgaug>=0.4.0\n",
            "  Downloading imgaug-0.4.0-py2.py3-none-any.whl (948 kB)\n",
            "\u001b[K     |████████████████████████████████| 948 kB 64.9 MB/s \n",
            "\u001b[?25hRequirement already satisfied: PyYAML in /usr/local/lib/python3.7/dist-packages (from albumentations==0.4.6) (3.13)\n",
            "Requirement already satisfied: opencv-python>=4.1.1 in /usr/local/lib/python3.7/dist-packages (from albumentations==0.4.6) (4.1.2.30)\n",
            "Requirement already satisfied: six in /usr/local/lib/python3.7/dist-packages (from imgaug>=0.4.0->albumentations==0.4.6) (1.15.0)\n",
            "Requirement already satisfied: Pillow in /usr/local/lib/python3.7/dist-packages (from imgaug>=0.4.0->albumentations==0.4.6) (7.1.2)\n",
            "Requirement already satisfied: scikit-image>=0.14.2 in /usr/local/lib/python3.7/dist-packages (from imgaug>=0.4.0->albumentations==0.4.6) (0.16.2)\n",
            "Requirement already satisfied: Shapely in /usr/local/lib/python3.7/dist-packages (from imgaug>=0.4.0->albumentations==0.4.6) (1.7.1)\n",
            "Requirement already satisfied: matplotlib in /usr/local/lib/python3.7/dist-packages (from imgaug>=0.4.0->albumentations==0.4.6) (3.2.2)\n",
            "Requirement already satisfied: imageio in /usr/local/lib/python3.7/dist-packages (from imgaug>=0.4.0->albumentations==0.4.6) (2.4.1)\n",
            "Requirement already satisfied: networkx>=2.0 in /usr/local/lib/python3.7/dist-packages (from scikit-image>=0.14.2->imgaug>=0.4.0->albumentations==0.4.6) (2.6.3)\n",
            "Requirement already satisfied: PyWavelets>=0.4.0 in /usr/local/lib/python3.7/dist-packages (from scikit-image>=0.14.2->imgaug>=0.4.0->albumentations==0.4.6) (1.1.1)\n",
            "Requirement already satisfied: pyparsing!=2.0.4,!=2.1.2,!=2.1.6,>=2.0.1 in /usr/local/lib/python3.7/dist-packages (from matplotlib->imgaug>=0.4.0->albumentations==0.4.6) (2.4.7)\n",
            "Requirement already satisfied: python-dateutil>=2.1 in /usr/local/lib/python3.7/dist-packages (from matplotlib->imgaug>=0.4.0->albumentations==0.4.6) (2.8.2)\n",
            "Requirement already satisfied: cycler>=0.10 in /usr/local/lib/python3.7/dist-packages (from matplotlib->imgaug>=0.4.0->albumentations==0.4.6) (0.10.0)\n",
            "Requirement already satisfied: kiwisolver>=1.0.1 in /usr/local/lib/python3.7/dist-packages (from matplotlib->imgaug>=0.4.0->albumentations==0.4.6) (1.3.2)\n",
            "Building wheels for collected packages: albumentations\n",
            "  Building wheel for albumentations (setup.py) ... \u001b[?25l\u001b[?25hdone\n",
            "  Created wheel for albumentations: filename=albumentations-0.4.6-py3-none-any.whl size=65172 sha256=bce399cf7ced97bd579195cb03dc429074e87dff4ac2ed81fb99b48e94e01dd6\n",
            "  Stored in directory: /root/.cache/pip/wheels/cf/34/0f/cb2a5f93561a181a4bcc84847ad6aaceea8b5a3127469616cc\n",
            "Successfully built albumentations\n",
            "Installing collected packages: imgaug, albumentations\n",
            "  Attempting uninstall: imgaug\n",
            "    Found existing installation: imgaug 0.2.9\n",
            "    Uninstalling imgaug-0.2.9:\n",
            "      Successfully uninstalled imgaug-0.2.9\n",
            "  Attempting uninstall: albumentations\n",
            "    Found existing installation: albumentations 0.1.12\n",
            "    Uninstalling albumentations-0.1.12:\n",
            "      Successfully uninstalled albumentations-0.1.12\n",
            "Successfully installed albumentations-0.4.6 imgaug-0.4.0\n",
            "Collecting japanize-matplotlib\n",
            "  Downloading japanize-matplotlib-1.1.3.tar.gz (4.1 MB)\n",
            "\u001b[K     |████████████████████████████████| 4.1 MB 12.3 MB/s \n",
            "\u001b[?25hRequirement already satisfied: matplotlib in /usr/local/lib/python3.7/dist-packages (from japanize-matplotlib) (3.2.2)\n",
            "Requirement already satisfied: numpy>=1.11 in /usr/local/lib/python3.7/dist-packages (from matplotlib->japanize-matplotlib) (1.19.5)\n",
            "Requirement already satisfied: pyparsing!=2.0.4,!=2.1.2,!=2.1.6,>=2.0.1 in /usr/local/lib/python3.7/dist-packages (from matplotlib->japanize-matplotlib) (2.4.7)\n",
            "Requirement already satisfied: kiwisolver>=1.0.1 in /usr/local/lib/python3.7/dist-packages (from matplotlib->japanize-matplotlib) (1.3.2)\n",
            "Requirement already satisfied: python-dateutil>=2.1 in /usr/local/lib/python3.7/dist-packages (from matplotlib->japanize-matplotlib) (2.8.2)\n",
            "Requirement already satisfied: cycler>=0.10 in /usr/local/lib/python3.7/dist-packages (from matplotlib->japanize-matplotlib) (0.10.0)\n",
            "Requirement already satisfied: six in /usr/local/lib/python3.7/dist-packages (from cycler>=0.10->matplotlib->japanize-matplotlib) (1.15.0)\n",
            "Building wheels for collected packages: japanize-matplotlib\n",
            "  Building wheel for japanize-matplotlib (setup.py) ... \u001b[?25l\u001b[?25hdone\n",
            "  Created wheel for japanize-matplotlib: filename=japanize_matplotlib-1.1.3-py3-none-any.whl size=4120274 sha256=b9762a99c4a5cf8ffea4fdc58828f4c032574c43a4528aad4df87cd0bc2279ed\n",
            "  Stored in directory: /root/.cache/pip/wheels/83/97/6b/e9e0cde099cc40f972b8dd23367308f7705ae06cd6d4714658\n",
            "Successfully built japanize-matplotlib\n",
            "Installing collected packages: japanize-matplotlib\n",
            "Successfully installed japanize-matplotlib-1.1.3\n"
          ]
        }
      ]
    },
    {
      "cell_type": "code",
      "metadata": {
        "id": "5d79e583"
      },
      "source": [
        "import sys, os\n",
        "import gc\n",
        "import time\n",
        "from datetime import datetime\n",
        "from glob import glob\n",
        "from tqdm import tqdm\n",
        "\n",
        "import numpy as np\n",
        "import pandas as pd\n",
        "\n",
        "import torch\n",
        "import torch.nn as nn\n",
        "import torch.nn.functional as F\n",
        "from torch.utils.data import Dataset\n",
        "# import ttach as tta\n",
        "\n",
        "import cv2\n",
        "from PIL import Image\n",
        "\n",
        "import torchvision.transforms as T\n",
        "import albumentations as A\n",
        "from albumentations.pytorch.transforms import ToTensorV2\n",
        "\n",
        "from matplotlib import pyplot as plt\n",
        "import japanize_matplotlib\n",
        "%matplotlib inline"
      ],
      "id": "5d79e583",
      "execution_count": null,
      "outputs": []
    },
    {
      "cell_type": "code",
      "metadata": {
        "id": "169c23f4"
      },
      "source": [
        "# for colab\n",
        "IMAGE_PATH = '***.bmp' #ここにファイル名指定\n",
        "\n",
        "img = cv2.imread(IMAGE_PATH)\n",
        "img = cv2.cvtColor(img, cv2.COLOR_BGR2RGB)"
      ],
      "id": "169c23f4",
      "execution_count": null,
      "outputs": []
    },
    {
      "cell_type": "code",
      "metadata": {
        "colab": {
          "base_uri": "https://localhost:8080/"
        },
        "id": "K86-F907quN8",
        "outputId": "0634e27c-bd52-4e4f-abbb-b918adcd7a7d"
      },
      "source": [
        "img.shape"
      ],
      "id": "K86-F907quN8",
      "execution_count": null,
      "outputs": [
        {
          "output_type": "execute_result",
          "data": {
            "text/plain": [
              "(2048, 2448, 3)"
            ]
          },
          "metadata": {},
          "execution_count": 5
        }
      ]
    },
    {
      "cell_type": "code",
      "metadata": {
        "id": "Xb2YiOTtqeAn"
      },
      "source": [
        "plt.imshow(img)"
      ],
      "id": "Xb2YiOTtqeAn",
      "execution_count": null,
      "outputs": []
    },
    {
      "cell_type": "markdown",
      "metadata": {
        "id": "b07418b0"
      },
      "source": [
        "# Albumentations\n",
        "参考：[本家github](https://github.com/albumentations-team/albumentations)\n",
        "\n",
        "かなり有名なAugmentation用の関数が豊富に用意されたライブラリです。  \n",
        "torchvisionにも一部同様の関数が含まれているようですが、性能面ではこちらが優れているそうです。  \n",
        "またTotensorV2というtorch tensor型に変換してくれる関数が用意されてもいるので、pytorchを使用する際にはかなり扱いやすいです。  \n",
        "以下英語にはなりますが、実装されている関数とそのドキュメントです。\n",
        "- [Blur](https://albumentations.ai/docs/api_reference/augmentations/transforms/#albumentations.augmentations.transforms.Blur)\n",
        "- [CLAHE](https://albumentations.ai/docs/api_reference/augmentations/transforms/#albumentations.augmentations.transforms.CLAHE)\n",
        "- [ChannelDropout](https://albumentations.ai/docs/api_reference/augmentations/transforms/#albumentations.augmentations.transforms.ChannelDropout)\n",
        "- [ChannelShuffle](https://albumentations.ai/docs/api_reference/augmentations/transforms/#albumentations.augmentations.transforms.ChannelShuffle)\n",
        "- [ColorJitter](https://albumentations.ai/docs/api_reference/augmentations/transforms/#albumentations.augmentations.transforms.ColorJitter)\n",
        "- [Downscale](https://albumentations.ai/docs/api_reference/augmentations/transforms/#albumentations.augmentations.transforms.Downscale)\n",
        "- [Emboss](https://albumentations.ai/docs/api_reference/augmentations/transforms/#albumentations.augmentations.transforms.Emboss)\n",
        "- [Equalize](https://albumentations.ai/docs/api_reference/augmentations/transforms/#albumentations.augmentations.transforms.Equalize)\n",
        "- [FDA](https://albumentations.ai/docs/api_reference/augmentations/domain_adaptation/#albumentations.augmentations.domain_adaptation.FDA)\n",
        "- [FancyPCA](https://albumentations.ai/docs/api_reference/augmentations/transforms/#albumentations.augmentations.transforms.FancyPCA)\n",
        "- [FromFloat](https://albumentations.ai/docs/api_reference/augmentations/transforms/#albumentations.augmentations.transforms.FromFloat)\n",
        "- [GaussNoise](https://albumentations.ai/docs/api_reference/augmentations/transforms/#albumentations.augmentations.transforms.GaussNoise)\n",
        "- [GaussianBlur](https://albumentations.ai/docs/api_reference/augmentations/transforms/#albumentations.augmentations.transforms.GaussianBlur)\n",
        "- [GlassBlur](https://albumentations.ai/docs/api_reference/augmentations/transforms/#albumentations.augmentations.transforms.GlassBlur)\n",
        "- [HistogramMatching](https://albumentations.ai/docs/api_reference/augmentations/domain_adaptation/#albumentations.augmentations.domain_adaptation.HistogramMatching)\n",
        "- [HueSaturationValue](https://albumentations.ai/docs/api_reference/augmentations/transforms/#albumentations.augmentations.transforms.HueSaturationValue)\n",
        "- [ISONoise](https://albumentations.ai/docs/api_reference/augmentations/transforms/#albumentations.augmentations.transforms.ISONoise)\n",
        "- [ImageCompression](https://albumentations.ai/docs/api_reference/augmentations/transforms/#albumentations.augmentations.transforms.ImageCompression)\n",
        "- [InvertImg](https://albumentations.ai/docs/api_reference/augmentations/transforms/#albumentations.augmentations.transforms.InvertImg)\n",
        "- [MedianBlur](https://albumentations.ai/docs/api_reference/augmentations/transforms/#albumentations.augmentations.transforms.MedianBlur)\n",
        "- [MotionBlur](https://albumentations.ai/docs/api_reference/augmentations/transforms/#albumentations.augmentations.transforms.MotionBlur)\n",
        "- [MultiplicativeNoise](https://albumentations.ai/docs/api_reference/augmentations/transforms/#albumentations.augmentations.transforms.MultiplicativeNoise)\n",
        "- [Normalize](https://albumentations.ai/docs/api_reference/augmentations/transforms/#albumentations.augmentations.transforms.Normalize)\n",
        "- [PixelDistributionAdaptation](https://albumentations.ai/docs/api_reference/augmentations/domain_adaptation/#albumentations.augmentations.domain_adaptation.PixelDistributionAdaptation)\n",
        "- [Posterize](https://albumentations.ai/docs/api_reference/augmentations/transforms/#albumentations.augmentations.transforms.Posterize)\n",
        "- [RGBShift](https://albumentations.ai/docs/api_reference/augmentations/transforms/#albumentations.augmentations.transforms.RGBShift)\n",
        "- [RandomBrightnessContrast](https://albumentations.ai/docs/api_reference/augmentations/transforms/#albumentations.augmentations.transforms.RandomBrightnessContrast)\n",
        "- [RandomFog](https://albumentations.ai/docs/api_reference/augmentations/transforms/#albumentations.augmentations.transforms.RandomFog)\n",
        "- [RandomGamma](https://albumentations.ai/docs/api_reference/augmentations/transforms/#albumentations.augmentations.transforms.RandomGamma)\n",
        "- [RandomRain](https://albumentations.ai/docs/api_reference/augmentations/transforms/#albumentations.augmentations.transforms.RandomRain)\n",
        "- [RandomShadow](https://albumentations.ai/docs/api_reference/augmentations/transforms/#albumentations.augmentations.transforms.RandomShadow)\n",
        "- [RandomSnow](https://albumentations.ai/docs/api_reference/augmentations/transforms/#albumentations.augmentations.transforms.RandomSnow)\n",
        "- [RandomSunFlare](https://albumentations.ai/docs/api_reference/augmentations/transforms/#albumentations.augmentations.transforms.RandomSunFlare)\n",
        "- [RandomToneCurve](https://albumentations.ai/docs/api_reference/augmentations/transforms/#albumentations.augmentations.transforms.RandomToneCurve)\n",
        "- [Sharpen](https://albumentations.ai/docs/api_reference/augmentations/transforms/#albumentations.augmentations.transforms.Sharpen)\n",
        "- [Solarize](https://albumentations.ai/docs/api_reference/augmentations/transforms/#albumentations.augmentations.transforms.Solarize)\n",
        "- [Superpixels](https://albumentations.ai/docs/api_reference/augmentations/transforms/#albumentations.augmentations.transforms.Superpixels)\n",
        "- [TemplateTransform](https://albumentations.ai/docs/api_reference/augmentations/transforms/#albumentations.augmentations.transforms.TemplateTransform)\n",
        "- [ToFloat](https://albumentations.ai/docs/api_reference/augmentations/transforms/#albumentations.augmentations.transforms.ToFloat)\n",
        "- [ToGray](https://albumentations.ai/docs/api_reference/augmentations/transforms/#albumentations.augmentations.transforms.ToGray)\n",
        "- [ToSepia](https://albumentations.ai/docs/api_reference/augmentations/transforms/#albumentations.augmentations.transforms.ToSepia)\n",
        "- [Affine](https://albumentations.ai/docs/api_reference/augmentations/geometric/transforms/#albumentations.augmentations.geometric.transforms.Affine)\n",
        "- [CenterCrop](https://albumentations.ai/docs/api_reference/augmentations/crops/transforms/#albumentations.augmentations.crops.transforms.CenterCrop)\n",
        "- [CoarseDropout](https://albumentations.ai/docs/api_reference/augmentations/transforms/#albumentations.augmentations.transforms.CoarseDropout)\n",
        "- [Crop](https://albumentations.ai/docs/api_reference/augmentations/crops/transforms/#albumentations.augmentations.crops.transforms.Crop)\n",
        "- [CropAndPad](https://albumentations.ai/docs/api_reference/augmentations/crops/transforms/#albumentations.augmentations.crops.transforms.CropAndPad)\n",
        "- [CropNonEmptyMaskIfExists](https://albumentations.ai/docs/api_reference/augmentations/crops/transforms/#albumentations.augmentations.crops.transforms.CropNonEmptyMaskIfExists)\n",
        "- [ElasticTransform](https://albumentations.ai/docs/api_reference/augmentations/geometric/transforms/#albumentations.augmentations.geometric.transforms.ElasticTransform)\n",
        "- [Flip](https://albumentations.ai/docs/api_reference/augmentations/transforms/#albumentations.augmentations.transforms.Flip)\n",
        "- [GridDistortion](https://albumentations.ai/docs/api_reference/augmentations/transforms/#albumentations.augmentations.transforms.GridDistortion)\n",
        "- [GridDropout](https://albumentations.ai/docs/api_reference/augmentations/transforms/#albumentations.augmentations.transforms.GridDropout)\n",
        "- [HorizontalFlip](https://albumentations.ai/docs/api_reference/augmentations/transforms/#albumentations.augmentations.transforms.HorizontalFlip)\n",
        "- [Lambda](https://albumentations.ai/docs/api_reference/augmentations/transforms/#albumentations.augmentations.transforms.Lambda)\n",
        "- [LongestMaxSize](https://albumentations.ai/docs/api_reference/augmentations/geometric/resize/#albumentations.augmentations.geometric.resize.LongestMaxSize)\n",
        "- [MaskDropout](https://albumentations.ai/docs/api_reference/augmentations/transforms/#albumentations.augmentations.transforms.MaskDropout)\n",
        "- [NoOp](https://albumentations.ai/docs/api_reference/core/transforms_interface/#albumentations.core.transforms_interface.NoOp)\n",
        "- [OpticalDistortion](https://albumentations.ai/docs/api_reference/augmentations/transforms/#albumentations.augmentations.transforms.OpticalDistortion)\n",
        "- [PadIfNeeded](https://albumentations.ai/docs/api_reference/augmentations/transforms/#albumentations.augmentations.transforms.PadIfNeeded)\n",
        "- [Perspective](https://albumentations.ai/docs/api_reference/augmentations/geometric/transforms/#albumentations.augmentations.geometric.transforms.Perspective)\n",
        "- [PiecewiseAffine](https://albumentations.ai/docs/api_reference/augmentations/geometric/transforms/#albumentations.augmentations.geometric.transforms.PiecewiseAffine)\n",
        "- [RandomCrop](https://albumentations.ai/docs/api_reference/augmentations/crops/transforms/#albumentations.augmentations.crops.transforms.RandomCrop)\n",
        "- [RandomCropNearBBox](https://albumentations.ai/docs/api_reference/augmentations/crops/transforms/#albumentations.augmentations.crops.transforms.RandomCropNearBBox)\n",
        "- [RandomGridShuffle](https://albumentations.ai/docs/api_reference/augmentations/transforms/#albumentations.augmentations.transforms.RandomGridShuffle)\n",
        "- [RandomResizedCrop](https://albumentations.ai/docs/api_reference/augmentations/crops/transforms/#albumentations.augmentations.crops.transforms.RandomResizedCrop)\n",
        "- [RandomRotate90](https://albumentations.ai/docs/api_reference/augmentations/geometric/rotate/#albumentations.augmentations.geometric.rotate.RandomRotate90)\n",
        "- [RandomScale](https://albumentations.ai/docs/api_reference/augmentations/geometric/resize/#albumentations.augmentations.geometric.resize.RandomScale)\n",
        "- [RandomSizedBBoxSafeCrop](https://albumentations.ai/docs/api_reference/augmentations/crops/transforms/#albumentations.augmentations.crops.transforms.RandomSizedBBoxSafeCrop)\n",
        "- [RandomSizedCrop](https://albumentations.ai/docs/api_reference/augmentations/crops/transforms/#albumentations.augmentations.crops.transforms.RandomSizedCrop)\n",
        "- [Resize](https://albumentations.ai/docs/api_reference/augmentations/geometric/resize/#albumentations.augmentations.geometric.resize.Resize)\n",
        "- [Rotate](https://albumentations.ai/docs/api_reference/augmentations/geometric/rotate/#albumentations.augmentations.geometric.rotate.Rotate)\n",
        "- [SafeRotate](https://albumentations.ai/docs/api_reference/augmentations/geometric/rotate/#albumentations.augmentations.geometric.rotate.SafeRotate)\n",
        "- [ShiftScaleRotate](https://albumentations.ai/docs/api_reference/augmentations/geometric/transforms/#albumentations.augmentations.geometric.transforms.ShiftScaleRotate)\n",
        "- [SmallestMaxSize](https://albumentations.ai/docs/api_reference/augmentations/geometric/resize/#albumentations.augmentations.geometric.resize.SmallestMaxSize)\n",
        "- [Transpose](https://albumentations.ai/docs/api_reference/augmentations/transforms/#albumentations.augmentations.transforms.Transpose)\n",
        "- [VerticalFlip](https://albumentations.ai/docs/api_reference/augmentations/transforms/#albumentations.augmentations.transforms.VerticalFlip)\n",
        "\n",
        "日本語だと[こちら](https://qiita.com/kurilab/items/b69e1be8d0224ae139ad)に詳しく書かれています。"
      ],
      "id": "b07418b0"
    },
    {
      "cell_type": "markdown",
      "metadata": {
        "id": "3902bb02"
      },
      "source": [
        "## 実行テスト\n",
        "今回は案件でも使えそうな関数を幾つかピックアップして実行してみます。\n",
        "1. フリップ\n",
        "2. 回転\n",
        "3. グリッドの歪み\n",
        "4. ぼかし\n",
        "5. Downscale\n",
        "6. その他"
      ],
      "id": "3902bb02"
    },
    {
      "cell_type": "markdown",
      "metadata": {
        "id": "0354fbaa"
      },
      "source": [
        "### 1. フリップ"
      ],
      "id": "0354fbaa"
    },
    {
      "cell_type": "code",
      "metadata": {
        "id": "cf3bd114"
      },
      "source": [
        "# 水平フリップ\n",
        "\n",
        "fig, axes = plt.subplots(1, 2, figsize=(20, 10))\n",
        "\n",
        "plt.subplot(1, 2, 1)\n",
        "plt.imshow(img)\n",
        "plt.title(\"元画像\", fontsize=15)\n",
        "\n",
        "transforms = A.HorizontalFlip(p=1.0) # pは適用確率です。Albumentationsの関数は以下同様\n",
        "plt.subplot(1, 2, 2)\n",
        "plt.imshow(transforms(image=img)['image']) # or plt.imshow(transformer(**{'image': img})['image'])\n",
        "plt.title(\"水平フリップ\", fontsize=15)"
      ],
      "id": "cf3bd114",
      "execution_count": null,
      "outputs": []
    },
    {
      "cell_type": "code",
      "metadata": {
        "id": "a7b916e4"
      },
      "source": [
        "# 垂直フリップ\n",
        "\n",
        "fig, axes = plt.subplots(1, 2, figsize=(20, 10))\n",
        "\n",
        "plt.subplot(1, 2, 1)\n",
        "plt.imshow(img)\n",
        "plt.title(\"元画像\", fontsize=15)\n",
        "\n",
        "transforms = A.VerticalFlip(p=1.0)\n",
        "plt.subplot(1, 2, 2)\n",
        "plt.imshow(transforms(image=img)['image'])\n",
        "plt.title(\"垂直フリップ\", fontsize=15)"
      ],
      "id": "a7b916e4",
      "execution_count": null,
      "outputs": []
    },
    {
      "cell_type": "markdown",
      "metadata": {
        "id": "u7FBAkPEtQSa"
      },
      "source": [
        "## 2. 回転"
      ],
      "id": "u7FBAkPEtQSa"
    },
    {
      "cell_type": "code",
      "metadata": {
        "id": "9NrejuZktSLK"
      },
      "source": [
        "# 回転\n",
        "\n",
        "fig, axes = plt.subplots(1, 2, figsize=(20, 10))\n",
        "\n",
        "plt.subplot(1, 2, 1)\n",
        "plt.imshow(img)\n",
        "plt.title(\"元画像\", fontsize=15)\n",
        "\n",
        "transforms = A.Rotate(limit=90, p=1.0) # limitで回転角度指定\n",
        "plt.subplot(1, 2, 2)\n",
        "plt.imshow(transforms(image=img)['image'])\n",
        "plt.title(\"回転\", fontsize=15)"
      ],
      "id": "9NrejuZktSLK",
      "execution_count": null,
      "outputs": []
    },
    {
      "cell_type": "markdown",
      "metadata": {
        "id": "WDWum3aptwQ9"
      },
      "source": [
        "Rotateは指定した回転角度を上限として、ランダムに回転します(実行するたびに結果が変わります。)"
      ],
      "id": "WDWum3aptwQ9"
    },
    {
      "cell_type": "markdown",
      "metadata": {
        "id": "1Jm2qMHkwXqr"
      },
      "source": [
        "## 3. グリッドの歪み"
      ],
      "id": "1Jm2qMHkwXqr"
    },
    {
      "cell_type": "code",
      "metadata": {
        "id": "ajdbd5imwa9-"
      },
      "source": [
        "# グリッドの歪み\n",
        "\n",
        "fig, axes = plt.subplots(1, 2, figsize=(20, 10))\n",
        "\n",
        "plt.subplot(1, 2, 1)\n",
        "plt.imshow(img)\n",
        "plt.title(\"元画像\", fontsize=15)\n",
        "\n",
        "transforms = A.GridDistortion(p=1.0)\n",
        "plt.subplot(1, 2, 2)\n",
        "plt.imshow(transforms(image=img)['image'])\n",
        "plt.title(\"グリッドの歪み\", fontsize=15)"
      ],
      "id": "ajdbd5imwa9-",
      "execution_count": null,
      "outputs": []
    },
    {
      "cell_type": "markdown",
      "metadata": {
        "id": "1yAzk0qCuFpH"
      },
      "source": [
        "## 4. ぼかし"
      ],
      "id": "1yAzk0qCuFpH"
    },
    {
      "cell_type": "code",
      "metadata": {
        "id": "pgXLMxc-tooJ"
      },
      "source": [
        "# ぼかし\n",
        "\n",
        "fig, axes = plt.subplots(1, 2, figsize=(20, 10))\n",
        "\n",
        "plt.subplot(1, 2, 1)\n",
        "plt.imshow(img)\n",
        "plt.title(\"元画像\", fontsize=15)\n",
        "\n",
        "transforms = A.Blur(blur_limit=30, p=1.0)\n",
        "plt.subplot(1, 2, 2)\n",
        "plt.imshow(transforms(image=img)['image'])\n",
        "plt.title(\"ぼかし\", fontsize=15)"
      ],
      "id": "pgXLMxc-tooJ",
      "execution_count": null,
      "outputs": []
    },
    {
      "cell_type": "markdown",
      "metadata": {
        "id": "kyEfvwFcvfCm"
      },
      "source": [
        "## 5. Downscale\n",
        "画像の縮小を利用したノイズ付加"
      ],
      "id": "kyEfvwFcvfCm"
    },
    {
      "cell_type": "code",
      "metadata": {
        "id": "7oTULsOAuk3T"
      },
      "source": [
        "# Downscale\n",
        "\n",
        "fig, axes = plt.subplots(1, 2, figsize=(20, 10))\n",
        "\n",
        "plt.subplot(1, 2, 1)\n",
        "plt.imshow(img)\n",
        "plt.title(\"元画像\", fontsize=15)\n",
        "\n",
        "transforms = A.Downscale(scale_min=0.18, p=1.0)\n",
        "plt.subplot(1, 2, 2)\n",
        "plt.imshow(transforms(image=img)['image'])\n",
        "plt.title(\"Downscale\", fontsize=15)"
      ],
      "id": "7oTULsOAuk3T",
      "execution_count": null,
      "outputs": []
    },
    {
      "cell_type": "markdown",
      "metadata": {
        "id": "RMRPsnegwlZ0"
      },
      "source": [
        "## 6. その他\n",
        "- torch tensor化\n",
        "- 組み合わせ\n",
        "- 自作"
      ],
      "id": "RMRPsnegwlZ0"
    },
    {
      "cell_type": "markdown",
      "metadata": {
        "id": "yh3VvuJRy405"
      },
      "source": [
        "pytorch用のテンソル化"
      ],
      "id": "yh3VvuJRy405"
    },
    {
      "cell_type": "code",
      "metadata": {
        "colab": {
          "base_uri": "https://localhost:8080/"
        },
        "id": "FcvUd2-pwsVl",
        "outputId": "0b14fb1b-0441-4000-aa9f-ae4326645f05"
      },
      "source": [
        "transforms = ToTensorV2(p=1.0)\n",
        "tensor_img = transforms(image=img)['image']\n",
        "print(type(tensor_img))"
      ],
      "id": "FcvUd2-pwsVl",
      "execution_count": null,
      "outputs": [
        {
          "output_type": "stream",
          "name": "stdout",
          "text": [
            "<class 'torch.Tensor'>\n"
          ]
        }
      ]
    },
    {
      "cell_type": "markdown",
      "metadata": {
        "id": "5VXV9MFVy8B-"
      },
      "source": [
        "組み合わせ  \n",
        "Composeメソッドを用います。"
      ],
      "id": "5VXV9MFVy8B-"
    },
    {
      "cell_type": "code",
      "metadata": {
        "id": "2jcu5aCpwBrt"
      },
      "source": [
        "fig, axes = plt.subplots(1, 2, figsize=(20, 10))\n",
        "\n",
        "plt.subplot(1, 2, 1)\n",
        "plt.imshow(img)\n",
        "plt.title(\"元画像\", fontsize=15)\n",
        "\n",
        "transforms = A.Compose([A.HorizontalFlip(p=0.5),\n",
        "                         A.VerticalFlip(p=0.5),\n",
        "                         A.Rotate(limit=30, p=0.5),\n",
        "                         A.GridDistortion(p=1.0),\n",
        "                         A.Blur(blur_limit=20, p=1.0),\n",
        "                         A.Downscale(scale_min=0.18, p=1.0)])\n",
        "\n",
        "plt.subplot(1, 2, 2)\n",
        "plt.imshow(transforms(image=img)['image'])\n",
        "plt.title(\"1から5全部盛\", fontsize=15)"
      ],
      "id": "2jcu5aCpwBrt",
      "execution_count": null,
      "outputs": []
    },
    {
      "cell_type": "markdown",
      "metadata": {
        "id": "3CLo9MaS0JCs"
      },
      "source": [
        "Compose内部に書かれた順番に適用されるので例えば\n",
        "```python\n",
        "transforms = A.Compose([A.HorizontalFlip(p=1.0),\n",
        "                        A.VerticalFlip(p=1.0)])\n",
        "```\n",
        "と書くことは\n",
        "```python\n",
        "transforms = A.RandomRotate90(p=1.0)\n",
        "```\n",
        "とほぼほぼ同義です"
      ],
      "id": "3CLo9MaS0JCs"
    },
    {
      "cell_type": "markdown",
      "metadata": {
        "id": "F3DP-nOU1AS0"
      },
      "source": [
        "自作  \n",
        "ImageOnlyTransformを継承することで、自作のAlbumentationsモジュールを作成できます。\n",
        "```python\n",
        "class MyAug(ImageOnlyTransform):\n",
        "\n",
        "    def __init__(self, 必要に応じて変数, always_apply=False, p=0.5):\n",
        "        super().__init__(always_apply, p)\n",
        "        必要に応じてself変数化\n",
        "\n",
        "    def apply(self, image, **params):\n",
        "        ここで処理内容\n",
        "        return image\n",
        "```"
      ],
      "id": "F3DP-nOU1AS0"
    },
    {
      "cell_type": "markdown",
      "metadata": {
        "id": "dsv2HPtmJC38"
      },
      "source": [
        "Albumentationsの解説は以上になりますがこのライブラリには生成系の手法はないので、生成系を実装するとなると自力で行う必要があります。  \n",
        "例えばcutmix。画像の一部をくり抜いて、出来た穴に別の画像を挿入することで一枚の入力画像を生成する手法のことです。正解ラベルは画像内で占有している面積によって割合で与えられます。\n",
        "これを一部実装したのが以下です(ラベルが関与するのでAlbumentationsでの実装はしていません、[参考](https://github.com/clovaai/CutMix-PyTorch/blob/master/train.py))。\n",
        "\n",
        "```python\n",
        "def rand_bbox(size, lam):\n",
        "    W = size[2]\n",
        "    H = size[3]\n",
        "    cut_rat = np.sqrt(1. - lam)\n",
        "    cut_w = np.int32(W * cut_rat)\n",
        "    cut_h = np.int32(H * cut_rat)\n",
        "\n",
        "    # uniform\n",
        "    cx = np.random.randint(W)\n",
        "    cy = np.random.randint(H)\n",
        "\n",
        "    bbx1 = np.clip(cx - cut_w // 2, 0, W)\n",
        "    bby1 = np.clip(cy - cut_h // 2, 0, H)\n",
        "    bbx2 = np.clip(cx + cut_w // 2, 0, W)\n",
        "    bby2 = np.clip(cy + cut_h // 2, 0, H)\n",
        "    return bbx1, bby1, bbx2, bby2\n",
        "\n",
        "def cutmix(data, target, alpha):\n",
        "    indices = torch.randperm(data.size(0))\n",
        "    shuffled_target = target[indices]\n",
        "\n",
        "    lam = np.clip(np.random.beta(alpha, alpha), 0.3, 0.4)\n",
        "    bbx1, bby1, bbx2, bby2 = rand_bbox(data.size(), lam)\n",
        "    new_data = data.clone()\n",
        "\n",
        "    # 画像の合成\n",
        "    new_data[:, :, bby1:bby2, bbx1:bbx2] = data[indices, :, bby1:bby2, bbx1:bbx2]\n",
        "    # 画像占有面積率の計算\n",
        "    lam = 1 - ((bbx2 - bbx1) * (bby2 - bby1) / (data.size()[-1] * data.size()[-2]))\n",
        "    targets = (target, shuffled_target, lam)\n",
        "\n",
        "    return new_data, targets # 新しいデータと新しいラベル\n",
        "\n",
        "# 学習時\n",
        "for step, batch in enumerate(data_loader):\n",
        "    data, target = batch\n",
        "    data = data.to('cuda', non_blocking=True)\n",
        "\n",
        "    mix_decision = np.random.rand()\n",
        "    if mix_decision < 0.5:\n",
        "        data, target = cutmix(data, target, alpha=1.0)\n",
        "    else:\n",
        "        pass\n",
        "    \n",
        "    output = model(data)\n",
        "\n",
        "    if mix_decision < 0.5:\n",
        "        loss = criterion(output, target[0]) * target[2] + criterion(output, target[1]) * (1. - target[2])\n",
        "    else:\n",
        "        loss = criterion(output, target)\n",
        "```\n",
        "こんな感じで学習時にcutmixが実行されると思います。  \n",
        "今更ですが、ひょっとしたらDataset内で実装したほうがいいかも？"
      ],
      "id": "dsv2HPtmJC38"
    },
    {
      "cell_type": "markdown",
      "metadata": {
        "id": "3Y-geYb1_hkV"
      },
      "source": [
        "# TTA(Test Time Augmentation)\n",
        "TTAとは学習時ではなく推論時にAugmentationを実行することで、さらに精度を引き上げようという手法です。  \n",
        "ただ今回の案件ではコンペとは違うので、実際にこの方法によって精度が上がったと言えるか否か、その検証自体が難しいです。(要検討)\n",
        "\n",
        "TTAでは推論時に予測対象の画像に対して、Augmentationを行い予測するということを何度か繰り返し、その後得られた予測値を平均化して出力します。これを実装するのは結構大変ですが、[pytorch用に作られたTTAライブラリ](https://github.com/qubvel/ttach)を使うことで簡単に実装できますので、そちらを紹介します。"
      ],
      "id": "3Y-geYb1_hkV"
    },
    {
      "cell_type": "code",
      "metadata": {
        "colab": {
          "base_uri": "https://localhost:8080/"
        },
        "id": "DzDN4nKtzwt_",
        "outputId": "93dcb05c-0205-418c-8fe0-6ad71e2be5f8"
      },
      "source": [
        "!pip install ttach"
      ],
      "id": "DzDN4nKtzwt_",
      "execution_count": null,
      "outputs": [
        {
          "output_type": "stream",
          "name": "stdout",
          "text": [
            "Collecting ttach\n",
            "  Downloading ttach-0.0.3-py3-none-any.whl (9.8 kB)\n",
            "Installing collected packages: ttach\n",
            "Successfully installed ttach-0.0.3\n"
          ]
        }
      ]
    },
    {
      "cell_type": "code",
      "metadata": {
        "id": "ANwI3UNrBkCs"
      },
      "source": [
        "import ttach as tta"
      ],
      "id": "ANwI3UNrBkCs",
      "execution_count": null,
      "outputs": []
    },
    {
      "cell_type": "markdown",
      "metadata": {
        "id": "AMZaikXkC_Wo"
      },
      "source": [
        "使い方\n",
        "```python\n",
        "# 推論にて\n",
        "tta_transforms = tta.Compose(\n",
        "    [\n",
        "        tta.HorizontalFlip(),\n",
        "        tta.VerticalFlip(),\n",
        "    ]\n",
        ")\n",
        "\n",
        "# 分類問題\n",
        "tta_model = tta.ClassificationTTAWrapper(model, tta_transforms)\n",
        "\n",
        "# セグメンテーション\n",
        "tta_model = tta.SegmentationTTAWrapper(model, tta_transforms, merge_mode='mean')\n",
        "\n",
        "# 回帰系？(Keypoints modelがわからなかった single input and single outputとあったので多分回帰)\n",
        "tta_model = tta.KeypointsTTAWrapper(model, tta_transforms, scaled=True)\n",
        "\n",
        "\n",
        "t = time.time()\n",
        "for step, batch in enumerate(data_loader):\n",
        "    with torch.no_grad():\n",
        "        data, target = batch\n",
        "        data = data.to('cuda', non_blocking=True)\n",
        "\n",
        "        output = tta_model(data)\n",
        "\n",
        "        y_pred += [ output.sigmoid().detach().cpu().numpy() ] # 分類ならこんな感じ\n",
        "```\n",
        "\n",
        "ttachにあるAugmentation機能：  \n",
        "- HorizontalFlip\n",
        "- VerticalFlip\n",
        "- Rotate90\n",
        "- Scale\n",
        "- Resize\n",
        "- Add\n",
        "- Multiply\n",
        "- FiveCrops"
      ],
      "id": "AMZaikXkC_Wo"
    },
    {
      "cell_type": "markdown",
      "metadata": {
        "id": "qS_HsBLmGukR"
      },
      "source": [
        "# 最適なAugmentationを見つけるアルゴリズム？\n",
        "調べていてびっくりしたのですが、最適なAugment手法を探索する手法がある様です。\n",
        "- AutoAugment: 最適な幾何的変換手法を探索する手法。\n",
        "- Smart Augment: 最適な画像の混ぜ方を探す手法。\n",
        "- RandAugment: AutoAugmentと同じくGoogleから提案された手法。AutoAugmentに比べて計算コストが小さい"
      ],
      "id": "qS_HsBLmGukR"
    }
  ]
}