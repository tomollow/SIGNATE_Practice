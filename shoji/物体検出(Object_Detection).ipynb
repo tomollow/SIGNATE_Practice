{
  "nbformat": 4,
  "nbformat_minor": 0,
  "metadata": {
    "colab": {
      "name": "物体検出(Object Detection).ipynb",
      "provenance": [],
      "collapsed_sections": [],
      "toc_visible": true,
      "authorship_tag": "ABX9TyM2f4qnjn4ihsJ+8sJsjZqg",
      "include_colab_link": true
    },
    "kernelspec": {
      "name": "python3",
      "display_name": "Python 3"
    },
    "language_info": {
      "name": "python"
    }
  },
  "cells": [
    {
      "cell_type": "markdown",
      "metadata": {
        "id": "view-in-github",
        "colab_type": "text"
      },
      "source": [
        "<a href=\"https://colab.research.google.com/github/tomollow/SIGNATE_Practice/blob/main/shoji/%E7%89%A9%E4%BD%93%E6%A4%9C%E5%87%BA(Object_Detection).ipynb\" target=\"_parent\"><img src=\"https://colab.research.google.com/assets/colab-badge.svg\" alt=\"Open In Colab\"/></a>"
      ]
    },
    {
      "cell_type": "markdown",
      "metadata": {
        "id": "kBM8Zxg8YWOW"
      },
      "source": [
        "\n",
        "\n",
        "---\n",
        "\n",
        "\n",
        "# 画像認識（Image Recognition） \n",
        "\n",
        "---\n",
        "\n"
      ]
    },
    {
      "cell_type": "markdown",
      "metadata": {
        "id": "9su1Ly0LYRqj"
      },
      "source": [
        "---\n",
        "# 画像分類（Image Classification）\n",
        "\n",
        "\n",
        "---\n",
        "\n"
      ]
    },
    {
      "cell_type": "markdown",
      "metadata": {
        "id": "97PMJfXsQiqo"
      },
      "source": [
        "## 代表的なモデル：\n"
      ]
    },
    {
      "cell_type": "markdown",
      "metadata": {
        "id": "tpEHv82QQpG9"
      },
      "source": [
        "* Xception (https://arxiv.org/abs/1610.02357)\n",
        "* VGG (https://arxiv.org/pdf/1409.1556.pdf)\n",
        "* ResNet (https://arxiv.org/abs/1512.03385)\n",
        "* Inception (https://arxiv.org/abs/1409.4842)\n",
        "* MobileNet (https://arxiv.org/abs/1704.04861)\n",
        "* DenseNet (https://arxiv.org/abs/1608.06993)"
      ]
    },
    {
      "cell_type": "markdown",
      "metadata": {
        "id": "-ftqDRgxee7k"
      },
      "source": [
        "## 代表的な評価指標："
      ]
    },
    {
      "cell_type": "markdown",
      "metadata": {
        "id": "vtXgIr8eehjC"
      },
      "source": [
        "* 混合行列(Confusion Matrix)\n",
        "* 正解率(Accuracy)\n",
        "* 適合率(Precision)\n",
        "* 再現率(Recall)\n",
        "* F値(F-measure)"
      ]
    },
    {
      "cell_type": "markdown",
      "metadata": {
        "id": "wu2h43XiYN3G"
      },
      "source": [
        "---\n",
        "# 画像分類・物体位置特定（Image Classification・Localization）\n",
        "\n",
        "\n",
        "---\n",
        "\n"
      ]
    },
    {
      "cell_type": "markdown",
      "metadata": {
        "id": "l1vJBA-VvObX"
      },
      "source": [
        "---\n",
        "# 物体検出（Object Detection）\n",
        "\n",
        "\n",
        "---\n",
        "\n"
      ]
    },
    {
      "cell_type": "markdown",
      "metadata": {
        "id": "JAwTyShyp6hv"
      },
      "source": [
        "## 代表的なモデル："
      ]
    },
    {
      "cell_type": "markdown",
      "metadata": {
        "id": "WyD_kxPKQZqx"
      },
      "source": [
        "* R-CNN (https://arxiv.org/abs/1311.2524)<BR>\n",
        "<img src=\"https://github.com/tomollow/images/blob/main/R-CNN.png?raw=true\" width=\"500\">\n",
        "* Fast R-CNN (https://arxiv.org/abs/1504.08083)<BR>\n",
        "<img src=\"https://github.com/tomollow/images/blob/main/Fast_R-CNN.png?raw=true\" width=\"500\">\n",
        "* SSD: Single Shot MultiBox Detector (https://arxiv.org/abs/1512.02325)<BR>\n",
        "<img src=\"https://github.com/tomollow/images/blob/main/SSD.png?raw=true*\" width=\"500\">\n",
        "* Mask R-CNN (https://arxiv.org/abs/1703.06870)<BR>\n",
        "<img src=\"https://github.com/tomollow/images/blob/main/Mask_R-CNN.png?raw=true\" width=\"500\">\n",
        "* YOLOv3: An Incremental Improvement (https://arxiv.org/abs/1804.02767)<BR>\n",
        "<img src=\"https://github.com/tomollow/images/blob/main/yolov3.png?raw=true\" width=\"500\">\n",
        "* yolov5 (https://github.com/ultralytics/yolov5)<BR>\n",
        "<img src=\"https://github.com/tomollow/images/blob/main/yolov5.png?raw=true\" width=\"500\">\n",
        "* RetinaNet (https://arxiv.org/abs/1905.10011)<BR>\n",
        "<img src=\"https://github.com/tomollow/images/blob/main/RetinaNet.png?raw=true\" width=\"500\">\n",
        "* EfficientDet (https://arxiv.org/pdf/1911.09070.pdf)<BR>\n",
        "<img src=\"https://github.com/tomollow/images/blob/main/efficientdet.png?raw=true\" width=\"500\">\n",
        "<img src=\"***画像URL***\" width=\"***サイズ***\">"
      ]
    },
    {
      "cell_type": "markdown",
      "metadata": {
        "id": "0zrfCm9xqx3l"
      },
      "source": [
        "## 代表的な評価指標："
      ]
    },
    {
      "cell_type": "markdown",
      "metadata": {
        "id": "IOZ4j6lzq3FT"
      },
      "source": [
        "* mAP(mean Average Precision)\n",
        "* IoU(Intersection over Union)"
      ]
    },
    {
      "cell_type": "markdown",
      "metadata": {
        "id": "AjPWZr9WXvys"
      },
      "source": [
        "---\n",
        "# セマンティック・セグメンテーション（Semantic Segmentation）\n",
        "\n",
        "\n",
        "---\n",
        "\n"
      ]
    },
    {
      "cell_type": "markdown",
      "metadata": {
        "id": "xeZcj3dJhNld"
      },
      "source": [
        "## 代表的なモデル：\n"
      ]
    },
    {
      "cell_type": "markdown",
      "metadata": {
        "id": "ha_O6ii0hQRK"
      },
      "source": [
        "* U-NET (https://arxiv.org/abs/1505.04597)\n",
        "* MULTISCALE (https://ieeexplore.ieee.org/document/568922)\n",
        "* HYBRID CNN-CRF (https://www.semanticscholar.org/paper/End-to-End-Training-of-Hybrid-CNN-CRF-Models-for-Janusch-Kropatsch/4da5f0c1d07725a06c6b4a2646e31ea3a5f14435)\n"
      ]
    },
    {
      "cell_type": "markdown",
      "metadata": {
        "id": "7qkdrBI-hXSG"
      },
      "source": [
        "## 代表的な評価指標："
      ]
    },
    {
      "cell_type": "markdown",
      "metadata": {
        "id": "ae4qcffdhaRd"
      },
      "source": [
        "* IoU\n",
        "* per-pixel accuracy"
      ]
    },
    {
      "cell_type": "markdown",
      "metadata": {
        "id": "U9xrzX7BYDmc"
      },
      "source": [
        "---\n",
        "# インスタント・セグメンテーション（Instant Segmentation）\n",
        "\n",
        "\n",
        "---\n",
        "\n"
      ]
    },
    {
      "cell_type": "markdown",
      "metadata": {
        "id": "1w3boWEAhgNn"
      },
      "source": [
        "## 代表的なモデル："
      ]
    },
    {
      "cell_type": "markdown",
      "metadata": {
        "id": "SgqrF7zAhkOq"
      },
      "source": [
        "* Mask R-CNN (https://arxiv.org/abs/1703.06870)\n",
        "* DeepMask (https://github.com/facebookresearch/deepmask)\n",
        "* FCIS (https://arxiv.org/abs/1611.07709)\n",
        "\n"
      ]
    },
    {
      "cell_type": "markdown",
      "metadata": {
        "id": "xvmPHayVhrNH"
      },
      "source": [
        "## 代表的な評価指標："
      ]
    },
    {
      "cell_type": "markdown",
      "metadata": {
        "id": "wnv1uA68hu6Z"
      },
      "source": [
        "* average precision over different IoU thresholds"
      ]
    },
    {
      "cell_type": "markdown",
      "metadata": {
        "id": "WD0iEdS4YIIB"
      },
      "source": [
        "---\n",
        "# パノプティック・セグメンテーション（Panoptic Segmentation）\n",
        "\n",
        "\n",
        "---\n",
        "\n"
      ]
    },
    {
      "cell_type": "markdown",
      "metadata": {
        "id": "d42TREe4h0Ld"
      },
      "source": [
        "## 代表的なモデル："
      ]
    },
    {
      "cell_type": "markdown",
      "metadata": {
        "id": "yRMjaJWvh4pe"
      },
      "source": [
        "* Panoptic Feature Pyramid Network (https://arxiv.org/abs/1901.02446)\n",
        "* UPSNet (https://arxiv.org/abs/1901.03784)\n"
      ]
    },
    {
      "cell_type": "markdown",
      "metadata": {
        "id": "6hR5h2S5h82r"
      },
      "source": [
        "## 代表的な評価指標："
      ]
    },
    {
      "cell_type": "markdown",
      "metadata": {
        "id": "_0wf8pzTiOSz"
      },
      "source": [
        "* Panoptic Quality (PQ)"
      ]
    },
    {
      "cell_type": "markdown",
      "metadata": {
        "id": "mnS9YnlGvHoK"
      },
      "source": [
        "---\n",
        "# アノテーションツール\n",
        "\n",
        "\n",
        "---\n",
        "\n"
      ]
    },
    {
      "cell_type": "markdown",
      "metadata": {
        "id": "-q1Z9MOFvtkL"
      },
      "source": [
        "* labelImg (https://github.com/tzutalin/labelImg/)\n",
        "* labelme (http://labelme2.csail.mit.edu/Release3.0/index.php)\n",
        "* CVAT (https://openvinotoolkit.github.io/cvat/about/)\n",
        "* VoTT（Visual Object Tagging Tool） (https://github.com/Microsoft/VoTT/)\n",
        "* LabelBox (https://labelbox.com/)\n",
        "* Annotorious (https://recogito.github.io/annotorious/)\n",
        "* Image Annotation Programme (https://github.com/frederictost/images_annotation_programme)\n",
        "* ImgLab (https://imglab.in/)\n",
        "* via (https://www.robots.ox.ac.uk/~vgg/software/via/)\n",
        "* FastLabel (https://ai-market.jp/service/fastlabel/)\n",
        "* Annostation (https://ai-market.jp/service/annostation/)\n",
        "* harBest for Data (https://ai-market.jp/service/harbest-for-data/)\n",
        "* ANNOFAB (https://annofab.com/)"
      ]
    },
    {
      "cell_type": "markdown",
      "metadata": {
        "id": "EYq9benijSzb"
      },
      "source": [
        "---\n",
        "# 参考サイト\n",
        "\n",
        "\n",
        "---\n",
        "\n"
      ]
    },
    {
      "cell_type": "markdown",
      "metadata": {
        "id": "kQYX5OdFjaQ_"
      },
      "source": [
        "* [画像分類・物体検出・セグメンテーションの比較](https://data-analysis-stats.jp/%e6%b7%b1%e5%b1%9e%e5%ad%a6%e7%bf%92/%e7%94%bb%e5%83%8f%e5%88%86%e9%a1%9e%e3%83%bb%e7%89%a9%e4%bd%93%e6%a4%9c%e5%87%ba%e3%83%bb%e3%82%bb%e3%82%b0%e3%83%a1%e3%83%b3%e3%83%86%e3%83%bc%e3%82%b7%e3%83%a7%e3%83%b3%e3%81%ae%e6%af%94%e8%bc%83/)\n",
        "* [物体検出、セグメンテーションをMask R-CNNで理解してみる (初心者)](https://qiita.com/shtmr/items/4283c851bc3d9721ed96)\n",
        "* [\"SOLO\" 簡単すぎるInstance Segmentation](https://qiita.com/Kmat67916008/items/474da9f1f5553579cf76)\n",
        "* [インスタンスセグメンテーション(Instance Segmentation)](https://cvml-expertguide.net/2020/08/22/instance-segmentation/)\n",
        "* [Annotationツール比較：labelImgとVoTT（YOLO・SSD両対応のデータセット）](https://www.nakasha.co.jp/future/ai/annotation_tool.html)\n",
        "* [【AI】物体検出（Object Detection）のアノテーションツール比較](https://note.com/jinbay/n/n97e5094a676c)\n",
        "* [AI開発におすすめのアノテーションツール12選【2021年最新版】](https://ai-market.jp/howto/annotationtools_services/)\n",
        "\n",
        "* [Kaggle Wheatコンペからの学び 〜 物体検出コンペで当たり前に行われている（っぽい）こと](https://mhiro216.hatenablog.com/entry/2020/08/09/205640)"
      ]
    }
  ]
}